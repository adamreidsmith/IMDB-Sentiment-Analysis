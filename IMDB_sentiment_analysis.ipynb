{
 "cells": [
  {
   "cell_type": "markdown",
   "id": "816e375d",
   "metadata": {},
   "source": [
    "# Sentiment Analysis of IMDB Movie Ratings - ENGO 680 Final Project\n",
    "### By Adam Smith"
   ]
  },
  {
   "cell_type": "markdown",
   "id": "01b75b8a",
   "metadata": {},
   "source": [
    "**To run only the final fully-connected model which satisfies the accuracy requirements and bypass the other two models, run the cell containing the imports, and then all cells below the section labelled *Fully-Connected Model*.  The downloads and preprocessing for the other models takes a few minutes to run.**"
   ]
  },
  {
   "cell_type": "code",
   "execution_count": 1,
   "id": "623b93eb",
   "metadata": {},
   "outputs": [
    {
     "data": {
      "text/plain": [
       "\"\\n!pip install multiprocess\\n!wget -nc https://ai.stanford.edu/~amaas/data/sentiment/aclImdb_v1.tar.gz\\n!wget -nc https://nlp.stanford.edu/data/glove.6B.zip\\n!tar -xf aclImdb_v1.tar.gz\\n!unzip -n glove.6B.zip -d glove\\n\\nimport nltk\\nnltk.download('stopwords')\\nnltk.download('punkt')\\nnltk.download('wordnet')\\nnltk.download('omw-1.4')\\n\""
      ]
     },
     "execution_count": 1,
     "metadata": {},
     "output_type": "execute_result"
    }
   ],
   "source": [
    "# Uncomment this code block if running in Google Colab\n",
    "# This will download the required libraries and data files\n",
    "\n",
    "'''\n",
    "!pip install multiprocess\n",
    "!wget -nc https://ai.stanford.edu/~amaas/data/sentiment/aclImdb_v1.tar.gz\n",
    "!wget -nc https://nlp.stanford.edu/data/glove.6B.zip\n",
    "!tar -xf aclImdb_v1.tar.gz\n",
    "!unzip -n glove.6B.zip -d glove\n",
    "\n",
    "import nltk\n",
    "nltk.download('stopwords')\n",
    "nltk.download('punkt')\n",
    "nltk.download('wordnet')\n",
    "nltk.download('omw-1.4')\n",
    "'''"
   ]
  },
  {
   "cell_type": "code",
   "execution_count": 2,
   "id": "3b5ca7b6",
   "metadata": {},
   "outputs": [],
   "source": [
    "import re\n",
    "import glob\n",
    "import random\n",
    "from itertools import chain\n",
    "from collections import Counter\n",
    "\n",
    "import numpy as np\n",
    "import matplotlib.pyplot as plt\n",
    "from multiprocess import Pool\n",
    "from nltk.stem import WordNetLemmatizer\n",
    "from nltk.tokenize import word_tokenize\n",
    "from nltk.corpus import stopwords, wordnet\n",
    "from sklearn.naive_bayes import MultinomialNB\n",
    "from sklearn.feature_extraction.text import CountVectorizer\n",
    "from sklearn.metrics import ConfusionMatrixDisplay, matthews_corrcoef\n",
    "from tensorflow.keras.layers import ( \n",
    "    TextVectorization,\n",
    "    Embedding,\n",
    "    Dense,\n",
    "    Dropout,\n",
    "    Conv1D,\n",
    "    MaxPool1D,\n",
    "    GlobalMaxPooling1D\n",
    ")\n",
    "from tensorflow.keras import Sequential\n",
    "from tensorflow.keras.datasets import imdb\n",
    "from tensorflow.keras.optimizers import Adam\n",
    "from tensorflow.keras.regularizers import L2\n",
    "from tensorflow.keras.initializers import Constant\n",
    "from tensorflow.keras.losses import BinaryCrossentropy"
   ]
  },
  {
   "cell_type": "markdown",
   "id": "15217b92",
   "metadata": {},
   "source": [
    "## Part I: Data Processing "
   ]
  },
  {
   "cell_type": "markdown",
   "id": "9fe802c6",
   "metadata": {},
   "source": [
    "First, we define a Dataset class to load and process the data."
   ]
  },
  {
   "cell_type": "code",
   "execution_count": 3,
   "id": "e07fcca1",
   "metadata": {},
   "outputs": [],
   "source": [
    "class Dataset():\n",
    "    # Class to represent and process the data\n",
    "    \n",
    "    def __init__(self):\n",
    "        \n",
    "        # Define and load file names\n",
    "        train_files = glob.glob('./aclImdb/train/???/*.txt')\n",
    "        test_files = glob.glob('./aclImdb/test/???/*.txt')\n",
    "        \n",
    "        # Read the training data into lists\n",
    "        self.train_data, self.train_labels = [], []\n",
    "        for file in train_files:\n",
    "            with open(file, 'r') as f:\n",
    "                self.train_data.append(f.read())\n",
    "                label = file[-5] if file[-6] == '_' else file[-6:-4]\n",
    "                self.train_labels.append(int(label))\n",
    "        \n",
    "        # Read the testing data into lists\n",
    "        self.test_data, self.test_labels = [], []\n",
    "        for file in test_files:\n",
    "            with open(file, 'r') as f:\n",
    "                self.test_data.append(f.read())\n",
    "                label = file[-5] if file[-6] == '_' else file[-6:-4]\n",
    "                self.test_labels.append(int(label))\n",
    "    \n",
    "    \n",
    "    def process(self, use_multiprocessing=False, num_processes=8, reduce_test=True, shuffle=True, random_state=42):\n",
    "        # Process the reviews\n",
    "        if use_multiprocessing:\n",
    "            # Batch the data so we can process batches concurrently\n",
    "            subset_length = len(self.train_data) // num_processes\n",
    "            batched_train_data, batched_test_data = [], []\n",
    "            for i in range(num_processes - 1):\n",
    "                batched_train_data.append(self.train_data[i * subset_length:(i + 1) * subset_length])\n",
    "                batched_test_data.append(self.test_data[i * subset_length:(i + 1) * subset_length])\n",
    "            batched_train_data.append(self.train_data[(num_processes - 1) * subset_length:])\n",
    "            batched_test_data.append(self.test_data[(num_processes - 1) * subset_length:])\n",
    "            \n",
    "            # Process batches concurrently\n",
    "            with Pool(num_processes) as pool:\n",
    "                batched_train_data = pool.map(self.preprocess_text, batched_train_data)            \n",
    "                batched_test_data = pool.map(self.preprocess_text, batched_test_data)\n",
    "            \n",
    "            # Merge the results back together\n",
    "            self.train_data = list(chain(*batched_train_data))\n",
    "            self.test_data = list(chain(*batched_test_data))\n",
    "                            \n",
    "        else:\n",
    "            self.train_data = self.preprocess_text(self.train_data)\n",
    "            self.test_data = self.preprocess_text(self.test_data)\n",
    "        \n",
    "        if reduce_test:\n",
    "            self.reduce_test_set()\n",
    "        \n",
    "        # Map the low ratings to 0 and the high ratings to 1\n",
    "        self.train_labels = list(map(lambda x: 1 if x > 5 else 0, self.train_labels))\n",
    "        self.test_labels = list(map(lambda x: 1 if x > 5 else 0, self.test_labels))\n",
    "        \n",
    "        if shuffle:            \n",
    "            if random_state:\n",
    "                random.seed(random_state)\n",
    "            \n",
    "            # Shuffle training data\n",
    "            train_data_label_pairs = list(zip(self.train_data, self.train_labels))\n",
    "            random.shuffle(train_data_label_pairs)\n",
    "            self.train_data, self.train_labels = zip(*train_data_label_pairs)\n",
    "            \n",
    "            # Shuffle test data\n",
    "            # Order of the test data is not important, so we actually don't need to shuffle here\n",
    "            # test_data_label_pairs = list(zip(self.test_data, self.test_labels))\n",
    "            # random.shuffle(test_data_label_pairs)\n",
    "            # self.test_data, self.test_labels = zip(*test_data_label_pairs)\n",
    "        \n",
    "        # Convert to numpy arrays\n",
    "        self.train_data, self.train_labels = np.array(self.train_data), np.array(self.train_labels)\n",
    "        self.test_data, self.test_labels = np.array(self.test_data), np.array(self.test_labels)\n",
    "    \n",
    "    \n",
    "    def preprocess_text(self, data):\n",
    "        # Pre-compile regex patterns\n",
    "        html_regex = re.compile(r'<.*?>')\n",
    "        punctuation_regex = re.compile(r'[^a-zA-Z0-9]')\n",
    "        \n",
    "        # Stop words to exclude from the data\n",
    "        stop_words = set(stopwords.words('english'))\n",
    "        \n",
    "        # Define the lemmatizer\n",
    "        lemmatizer = WordNetLemmatizer()\n",
    "        \n",
    "        processed_data = []\n",
    "        for review in data:                    \n",
    "            # Remove HTML tags\n",
    "            review = html_regex.sub('', review)\n",
    "            \n",
    "            # Remove punctuation\n",
    "            review = punctuation_regex.sub(' ', review).lower()\n",
    "            \n",
    "            # Tokenize\n",
    "            review = word_tokenize(review)\n",
    "            \n",
    "            # Remove stop words\n",
    "            review = filter(lambda w: w not in stop_words, review)\n",
    "            \n",
    "            # Lemmatize\n",
    "            review = ' '.join(lemmatizer.lemmatize(word, self.get_part_of_speech(word)) for word in review)\n",
    "            processed_data.append(review)\n",
    "        return processed_data\n",
    "    \n",
    "    \n",
    "    @staticmethod\n",
    "    def get_part_of_speech(word):\n",
    "        # Get the most probable part of speech for a given word\n",
    "        # Returns 'n' for noun, 'v' for verb, 'r' for adverb, 'a' for adjective, or 's' for satellite adjectives\n",
    "        # If the pos is unknown, return 'n'\n",
    "        \n",
    "        pos_counter = Counter(syn.pos() for syn in wordnet.synsets(word))\n",
    "        return max(pos_counter) if pos_counter else 'n'\n",
    "    \n",
    "    \n",
    "    def reduce_test_set(self):\n",
    "        # Remove words from the test set which do not appear in the training set\n",
    "        all_train_words = set(chain(*(s.split(' ') for s in self.train_data)))\n",
    "        self.test_data = (review.split(' ') for review in self.test_data)\n",
    "        self.test_data = [' '.join(filter(lambda w: w in all_train_words, review)) for review in self.test_data]"
   ]
  },
  {
   "cell_type": "markdown",
   "id": "5b8ebc54",
   "metadata": {},
   "source": [
    "Calling the `process` method takes a bit of time, but we can speed it up a bit with multiprocessing.  The python standard library `multiprocessing` module often has bugs in IPython, so we must use the [multiprocess](https://pypi.org/project/multiprocess/) module, which is equivalent but serializes with dill instead of pickle.\n",
    "\n",
    "The `reduce_test` argument reduces the test set to only contain words which are present in the training data."
   ]
  },
  {
   "cell_type": "code",
   "execution_count": 4,
   "id": "6d3fda50",
   "metadata": {},
   "outputs": [],
   "source": [
    "# Check if the notebook is running in Google Colab by trying to import google.colab\n",
    "try: \n",
    "    import google.colab\n",
    "    IN_COLAB = True\n",
    "except ModuleNotFoundError:\n",
    "    IN_COLAB = False\n",
    "\n",
    "data = Dataset()\n",
    "# If we're in Colab, don't use multiprocessing\n",
    "if IN_COLAB:\n",
    "    data.process(use_multiprocessing=False, reduce_test=True)  # This may take a while (~4 mins on GC) (sorry)\n",
    "else:\n",
    "    data.process(use_multiprocessing=True, num_processes=8, reduce_test=True)  # Much faster, but multiprocessing doesn't seem to play well with GC"
   ]
  },
  {
   "cell_type": "markdown",
   "id": "f5abdf3e",
   "metadata": {},
   "source": [
    "## Part II: Models"
   ]
  },
  {
   "cell_type": "markdown",
   "id": "37fbcb1d",
   "metadata": {},
   "source": [
    "### Bayesian Network"
   ]
  },
  {
   "cell_type": "markdown",
   "id": "edb79ac5",
   "metadata": {},
   "source": [
    "We first define a simple Baysesian Network as a baseline.  We vectorize the data with the `sklearn`'s `CountVectorizer` class, which returns a sparse matrix representation of the data.  Each row corresponds to a vector with length the size of the vocabulary, with each entry corresponding to the number of times the corresponding word occurs in the review."
   ]
  },
  {
   "cell_type": "code",
   "execution_count": 5,
   "id": "f90e2707",
   "metadata": {},
   "outputs": [],
   "source": [
    "vectorizer = CountVectorizer(dtype=np.uint8)\n",
    "train_counts = vectorizer.fit_transform(data.train_data)\n",
    "test_counts = vectorizer.transform(data.test_data)"
   ]
  },
  {
   "cell_type": "code",
   "execution_count": 6,
   "id": "31934f8a",
   "metadata": {},
   "outputs": [
    {
     "data": {
      "text/html": [
       "<style>#sk-container-id-1 {color: black;background-color: white;}#sk-container-id-1 pre{padding: 0;}#sk-container-id-1 div.sk-toggleable {background-color: white;}#sk-container-id-1 label.sk-toggleable__label {cursor: pointer;display: block;width: 100%;margin-bottom: 0;padding: 0.3em;box-sizing: border-box;text-align: center;}#sk-container-id-1 label.sk-toggleable__label-arrow:before {content: \"▸\";float: left;margin-right: 0.25em;color: #696969;}#sk-container-id-1 label.sk-toggleable__label-arrow:hover:before {color: black;}#sk-container-id-1 div.sk-estimator:hover label.sk-toggleable__label-arrow:before {color: black;}#sk-container-id-1 div.sk-toggleable__content {max-height: 0;max-width: 0;overflow: hidden;text-align: left;background-color: #f0f8ff;}#sk-container-id-1 div.sk-toggleable__content pre {margin: 0.2em;color: black;border-radius: 0.25em;background-color: #f0f8ff;}#sk-container-id-1 input.sk-toggleable__control:checked~div.sk-toggleable__content {max-height: 200px;max-width: 100%;overflow: auto;}#sk-container-id-1 input.sk-toggleable__control:checked~label.sk-toggleable__label-arrow:before {content: \"▾\";}#sk-container-id-1 div.sk-estimator input.sk-toggleable__control:checked~label.sk-toggleable__label {background-color: #d4ebff;}#sk-container-id-1 div.sk-label input.sk-toggleable__control:checked~label.sk-toggleable__label {background-color: #d4ebff;}#sk-container-id-1 input.sk-hidden--visually {border: 0;clip: rect(1px 1px 1px 1px);clip: rect(1px, 1px, 1px, 1px);height: 1px;margin: -1px;overflow: hidden;padding: 0;position: absolute;width: 1px;}#sk-container-id-1 div.sk-estimator {font-family: monospace;background-color: #f0f8ff;border: 1px dotted black;border-radius: 0.25em;box-sizing: border-box;margin-bottom: 0.5em;}#sk-container-id-1 div.sk-estimator:hover {background-color: #d4ebff;}#sk-container-id-1 div.sk-parallel-item::after {content: \"\";width: 100%;border-bottom: 1px solid gray;flex-grow: 1;}#sk-container-id-1 div.sk-label:hover label.sk-toggleable__label {background-color: #d4ebff;}#sk-container-id-1 div.sk-serial::before {content: \"\";position: absolute;border-left: 1px solid gray;box-sizing: border-box;top: 0;bottom: 0;left: 50%;z-index: 0;}#sk-container-id-1 div.sk-serial {display: flex;flex-direction: column;align-items: center;background-color: white;padding-right: 0.2em;padding-left: 0.2em;position: relative;}#sk-container-id-1 div.sk-item {position: relative;z-index: 1;}#sk-container-id-1 div.sk-parallel {display: flex;align-items: stretch;justify-content: center;background-color: white;position: relative;}#sk-container-id-1 div.sk-item::before, #sk-container-id-1 div.sk-parallel-item::before {content: \"\";position: absolute;border-left: 1px solid gray;box-sizing: border-box;top: 0;bottom: 0;left: 50%;z-index: -1;}#sk-container-id-1 div.sk-parallel-item {display: flex;flex-direction: column;z-index: 1;position: relative;background-color: white;}#sk-container-id-1 div.sk-parallel-item:first-child::after {align-self: flex-end;width: 50%;}#sk-container-id-1 div.sk-parallel-item:last-child::after {align-self: flex-start;width: 50%;}#sk-container-id-1 div.sk-parallel-item:only-child::after {width: 0;}#sk-container-id-1 div.sk-dashed-wrapped {border: 1px dashed gray;margin: 0 0.4em 0.5em 0.4em;box-sizing: border-box;padding-bottom: 0.4em;background-color: white;}#sk-container-id-1 div.sk-label label {font-family: monospace;font-weight: bold;display: inline-block;line-height: 1.2em;}#sk-container-id-1 div.sk-label-container {text-align: center;}#sk-container-id-1 div.sk-container {/* jupyter's `normalize.less` sets `[hidden] { display: none; }` but bootstrap.min.css set `[hidden] { display: none !important; }` so we also need the `!important` here to be able to override the default hidden behavior on the sphinx rendered scikit-learn.org. See: https://github.com/scikit-learn/scikit-learn/issues/21755 */display: inline-block !important;position: relative;}#sk-container-id-1 div.sk-text-repr-fallback {display: none;}</style><div id=\"sk-container-id-1\" class=\"sk-top-container\"><div class=\"sk-text-repr-fallback\"><pre>MultinomialNB()</pre><b>In a Jupyter environment, please rerun this cell to show the HTML representation or trust the notebook. <br />On GitHub, the HTML representation is unable to render, please try loading this page with nbviewer.org.</b></div><div class=\"sk-container\" hidden><div class=\"sk-item\"><div class=\"sk-estimator sk-toggleable\"><input class=\"sk-toggleable__control sk-hidden--visually\" id=\"sk-estimator-id-1\" type=\"checkbox\" checked><label for=\"sk-estimator-id-1\" class=\"sk-toggleable__label sk-toggleable__label-arrow\">MultinomialNB</label><div class=\"sk-toggleable__content\"><pre>MultinomialNB()</pre></div></div></div></div></div>"
      ],
      "text/plain": [
       "MultinomialNB()"
      ]
     },
     "execution_count": 6,
     "metadata": {},
     "output_type": "execute_result"
    }
   ],
   "source": [
    "bayesian_network = MultinomialNB()\n",
    "bayesian_network.fit(train_counts, data.train_labels)"
   ]
  },
  {
   "cell_type": "code",
   "execution_count": 7,
   "id": "47d48b21",
   "metadata": {},
   "outputs": [
    {
     "name": "stdout",
     "output_type": "stream",
     "text": [
      "Naive Bayesian train accuracy 90.27%\n"
     ]
    }
   ],
   "source": [
    "bayes_train_acc = bayesian_network.score(train_counts, data.train_labels)\n",
    "print(f'Naive Bayesian train accuracy {bayes_train_acc:.2%}')"
   ]
  },
  {
   "cell_type": "code",
   "execution_count": 8,
   "id": "64c0e1d6",
   "metadata": {},
   "outputs": [
    {
     "name": "stdout",
     "output_type": "stream",
     "text": [
      "Naive Bayesian test accuracy 81.98%\n"
     ]
    }
   ],
   "source": [
    "bayes_test_acc = bayesian_network.score(test_counts, data.test_labels)\n",
    "print(f'Naive Bayesian test accuracy {bayes_test_acc:.2%}')"
   ]
  },
  {
   "cell_type": "markdown",
   "id": "74c79753",
   "metadata": {},
   "source": [
    "The naive Bayesian model performs decently on the training data, but fails to classify the test data as well.  We'll compute the MCC coefficient for a better analysis of the performance."
   ]
  },
  {
   "cell_type": "code",
   "execution_count": 9,
   "id": "90bada02",
   "metadata": {},
   "outputs": [
    {
     "name": "stdout",
     "output_type": "stream",
     "text": [
      "Bayesian network train set MCC: 0.806\n",
      "Bayesian network test set MCC: 0.644\n"
     ]
    }
   ],
   "source": [
    "train_preds = bayesian_network.predict(train_counts)\n",
    "test_preds = bayesian_network.predict(test_counts)\n",
    "print(f'Bayesian network train set MCC: {matthews_corrcoef(data.train_labels, train_preds):.3f}')\n",
    "print(f'Bayesian network test set MCC: {matthews_corrcoef(data.test_labels, test_preds):.3f}')"
   ]
  },
  {
   "cell_type": "markdown",
   "id": "69ee38f6",
   "metadata": {},
   "source": [
    "### Convolutional Model"
   ]
  },
  {
   "cell_type": "markdown",
   "id": "482d079c",
   "metadata": {},
   "source": [
    "Now we will try a deep learning model."
   ]
  },
  {
   "cell_type": "code",
   "execution_count": 10,
   "id": "26e5baed",
   "metadata": {},
   "outputs": [
    {
     "data": {
      "image/png": "[encoded data removed]",
      "text/plain": [
       "<Figure size 640x480 with 1 Axes>"
      ]
     },
     "metadata": {},
     "output_type": "display_data"
    }
   ],
   "source": [
    "review_lens = [len(review.split(' ')) for review in data.train_data]\n",
    "plt.hist(review_lens, bins=100)\n",
    "plt.xlabel('Number of words')\n",
    "plt.ylabel('Review count')\n",
    "plt.title('Number of words in each review in the training set')\n",
    "# plt.savefig('./img/num_words.png', dpi=300)\n",
    "plt.show()"
   ]
  },
  {
   "cell_type": "code",
   "execution_count": 11,
   "id": "2e35008c",
   "metadata": {},
   "outputs": [],
   "source": [
    "num_unique_train_words = len(set(chain(*(s.split(' ') for s in data.train_data))))\n",
    "\n",
    "# Define hyperparameters\n",
    "VOCAB_SIZE = num_unique_train_words\n",
    "SEQUENCE_LENGTH = 300\n",
    "EMBEDDING_DIM = 100  # one of 50, 100, 200, or 300\n",
    "BATCH_SIZE = 256\n",
    "EPOCHS = 5\n",
    "LR=1e-3"
   ]
  },
  {
   "cell_type": "markdown",
   "id": "8974c1a4",
   "metadata": {},
   "source": [
    "The `TextVectorization` layer maps the strings to integer sequences."
   ]
  },
  {
   "cell_type": "code",
   "execution_count": 12,
   "id": "c6d158b5",
   "metadata": {},
   "outputs": [
    {
     "name": "stderr",
     "output_type": "stream",
     "text": [
      "2022-12-14 11:04:31.851206: I tensorflow/core/common_runtime/pluggable_device/pluggable_device_factory.cc:306] Could not identify NUMA node of platform GPU ID 0, defaulting to 0. Your kernel may not have been built with NUMA support.\n",
      "2022-12-14 11:04:31.851823: I tensorflow/core/common_runtime/pluggable_device/pluggable_device_factory.cc:272] Created TensorFlow device (/job:localhost/replica:0/task:0/device:GPU:0 with 0 MB memory) -> physical PluggableDevice (device: 0, name: METAL, pci bus id: <undefined>)\n",
      "2022-12-14 11:04:32.044777: W tensorflow/core/platform/profile_utils/cpu_utils.cc:128] Failed to get CPU frequency: 0 Hz\n",
      "2022-12-14 11:04:32.106220: I tensorflow/core/grappler/optimizers/custom_graph_optimizer_registry.cc:114] Plugin optimizer for device_type GPU is enabled.\n"
     ]
    },
    {
     "name": "stdout",
     "output_type": "stream",
     "text": [
      "Metal device set to: Apple M1 Pro\n"
     ]
    }
   ],
   "source": [
    "vectorizer = TextVectorization(\n",
    "    standardize=None,\n",
    "    max_tokens=VOCAB_SIZE,\n",
    "    output_mode='int',\n",
    "    output_sequence_length=SEQUENCE_LENGTH\n",
    ")\n",
    "vectorizer.adapt(data.train_data)"
   ]
  },
  {
   "cell_type": "markdown",
   "id": "f632bf28",
   "metadata": {},
   "source": [
    "For the embeddings, we will employ the pretrained [GloVe](https://nlp.stanford.edu/projects/glove/) word embeddings. "
   ]
  },
  {
   "cell_type": "code",
   "execution_count": 13,
   "id": "c528f5ee",
   "metadata": {},
   "outputs": [],
   "source": [
    "path_to_glove_file = f'./glove/glove.6B.{EMBEDDING_DIM}d.txt'\n",
    "\n",
    "embeddings_index = {}\n",
    "with open(path_to_glove_file, 'r') as f:\n",
    "    for line in f:\n",
    "        word, coefs = line.split(maxsplit=1)\n",
    "        coefs = np.fromstring(coefs, sep=' ')\n",
    "        embeddings_index[word] = coefs"
   ]
  },
  {
   "cell_type": "code",
   "execution_count": 14,
   "id": "ebb7b87f",
   "metadata": {},
   "outputs": [],
   "source": [
    "vocab = vectorizer.get_vocabulary()\n",
    "\n",
    "# Dictionary mapping each word in the vocabulary to its index\n",
    "word_index = {word: i for i, word in enumerate(vocab)} \n",
    "\n",
    "# Prepare the embedding matrix\n",
    "embedding_matrix = np.zeros((num_unique_train_words, EMBEDDING_DIM))\n",
    "for word, i in word_index.items():\n",
    "    embedding_vector = embeddings_index.get(word)\n",
    "    if embedding_vector is not None:\n",
    "        # Words not found in embedding index will be all-zeros.\n",
    "        embedding_matrix[i] = embedding_vector"
   ]
  },
  {
   "cell_type": "markdown",
   "id": "5fe38c8b",
   "metadata": {},
   "source": [
    "Now we define, compile, and fit the model."
   ]
  },
  {
   "cell_type": "code",
   "execution_count": 15,
   "id": "99a9656d",
   "metadata": {},
   "outputs": [],
   "source": [
    "data_format = 'channels_last'\n",
    "\n",
    "model = Sequential([\n",
    "    vectorizer,\n",
    "    Embedding(\n",
    "        VOCAB_SIZE, \n",
    "        EMBEDDING_DIM,\n",
    "        embeddings_initializer=Constant(embedding_matrix),\n",
    "        trainable=False\n",
    "    ),\n",
    "    Conv1D(128, 7, activation='relu', data_format=data_format),\n",
    "    MaxPool1D(5, data_format=data_format),\n",
    "    Conv1D(128, 5, activation='relu', data_format=data_format),\n",
    "    MaxPool1D(5, data_format=data_format),\n",
    "    Conv1D(128, 5, activation='relu', data_format=data_format),\n",
    "    GlobalMaxPooling1D(data_format=data_format),\n",
    "    Dense(32, activation='relu'),\n",
    "    Dropout(0.5),\n",
    "    Dense(1)\n",
    "])"
   ]
  },
  {
   "cell_type": "code",
   "execution_count": 16,
   "id": "baf48134",
   "metadata": {},
   "outputs": [
    {
     "name": "stdout",
     "output_type": "stream",
     "text": [
      "Model: \"sequential\"\n",
      "_________________________________________________________________\n",
      " Layer (type)                Output Shape              Param #   \n",
      "=================================================================\n",
      " text_vectorization (TextVec  (None, 300)              0         \n",
      " torization)                                                     \n",
      "                                                                 \n",
      " embedding (Embedding)       (None, 300, 100)          5902200   \n",
      "                                                                 \n",
      " conv1d (Conv1D)             (None, 294, 128)          89728     \n",
      "                                                                 \n",
      " max_pooling1d (MaxPooling1D  (None, 58, 128)          0         \n",
      " )                                                               \n",
      "                                                                 \n",
      " conv1d_1 (Conv1D)           (None, 54, 128)           82048     \n",
      "                                                                 \n",
      " max_pooling1d_1 (MaxPooling  (None, 10, 128)          0         \n",
      " 1D)                                                             \n",
      "                                                                 \n",
      " conv1d_2 (Conv1D)           (None, 6, 128)            82048     \n",
      "                                                                 \n",
      " global_max_pooling1d (Globa  (None, 128)              0         \n",
      " lMaxPooling1D)                                                  \n",
      "                                                                 \n",
      " dense (Dense)               (None, 32)                4128      \n",
      "                                                                 \n",
      " dropout (Dropout)           (None, 32)                0         \n",
      "                                                                 \n",
      " dense_1 (Dense)             (None, 1)                 33        \n",
      "                                                                 \n",
      "=================================================================\n",
      "Total params: 6,160,185\n",
      "Trainable params: 257,985\n",
      "Non-trainable params: 5,902,200\n",
      "_________________________________________________________________\n"
     ]
    }
   ],
   "source": [
    "model.summary()"
   ]
  },
  {
   "cell_type": "code",
   "execution_count": 17,
   "id": "f88ba67d",
   "metadata": {},
   "outputs": [],
   "source": [
    "model.compile(optimizer=Adam(learning_rate=LR),\n",
    "              loss=BinaryCrossentropy(from_logits=True),\n",
    "              metrics=['accuracy'])"
   ]
  },
  {
   "cell_type": "code",
   "execution_count": 18,
   "id": "6ec4bd67",
   "metadata": {},
   "outputs": [
    {
     "name": "stdout",
     "output_type": "stream",
     "text": [
      "Epoch 1/5\n"
     ]
    },
    {
     "name": "stderr",
     "output_type": "stream",
     "text": [
      "2022-12-14 11:04:37.691625: I tensorflow/core/grappler/optimizers/custom_graph_optimizer_registry.cc:114] Plugin optimizer for device_type GPU is enabled.\n"
     ]
    },
    {
     "name": "stdout",
     "output_type": "stream",
     "text": [
      "98/98 [==============================] - ETA: 0s - loss: 0.6064 - accuracy: 0.6171"
     ]
    },
    {
     "name": "stderr",
     "output_type": "stream",
     "text": [
      "2022-12-14 11:04:42.938375: I tensorflow/core/grappler/optimizers/custom_graph_optimizer_registry.cc:114] Plugin optimizer for device_type GPU is enabled.\n"
     ]
    },
    {
     "name": "stdout",
     "output_type": "stream",
     "text": [
      "98/98 [==============================] - 7s 58ms/step - loss: 0.6064 - accuracy: 0.6171 - val_loss: 0.4736 - val_accuracy: 0.7314\n",
      "Epoch 2/5\n",
      "98/98 [==============================] - 5s 51ms/step - loss: 0.4377 - accuracy: 0.7914 - val_loss: 0.4565 - val_accuracy: 0.7449\n",
      "Epoch 3/5\n",
      "98/98 [==============================] - 5s 51ms/step - loss: 0.3835 - accuracy: 0.8228 - val_loss: 0.3644 - val_accuracy: 0.8233\n",
      "Epoch 4/5\n",
      "98/98 [==============================] - 5s 51ms/step - loss: 0.3154 - accuracy: 0.8656 - val_loss: 0.3448 - val_accuracy: 0.8518\n",
      "Epoch 5/5\n",
      "98/98 [==============================] - 5s 52ms/step - loss: 0.2678 - accuracy: 0.8925 - val_loss: 0.3331 - val_accuracy: 0.8515\n"
     ]
    }
   ],
   "source": [
    "history = model.fit(\n",
    "    data.train_data, \n",
    "    data.train_labels, \n",
    "    batch_size=BATCH_SIZE, \n",
    "    epochs=EPOCHS,\n",
    "    validation_data=(data.test_data, data.test_labels)\n",
    ")"
   ]
  },
  {
   "cell_type": "markdown",
   "id": "82a6d037",
   "metadata": {},
   "source": [
    "Note that the training accuracy shown above is inaccurate due to the existance of the dropout layer in the model and the fact that this is computed using averages of batch accuracies.  We compute the true training accuracy below."
   ]
  },
  {
   "cell_type": "code",
   "execution_count": 19,
   "id": "3225f669",
   "metadata": {
    "scrolled": true
   },
   "outputs": [
    {
     "name": "stdout",
     "output_type": "stream",
     "text": [
      " 25/782 [..............................] - ETA: 3s"
     ]
    },
    {
     "name": "stderr",
     "output_type": "stream",
     "text": [
      "2022-12-14 11:05:05.025177: I tensorflow/core/grappler/optimizers/custom_graph_optimizer_registry.cc:114] Plugin optimizer for device_type GPU is enabled.\n"
     ]
    },
    {
     "name": "stdout",
     "output_type": "stream",
     "text": [
      "782/782 [==============================] - 6s 7ms/step\n",
      "True training accuracy: 94.26%\n"
     ]
    }
   ],
   "source": [
    "# Compute the true training accuracy\n",
    "train_preds = np.where(model.predict(data.train_data) > 0.5, 1, 0).flatten()\n",
    "train_acc = (train_preds == data.train_labels).sum()/len(data.train_labels)\n",
    "print(f'True training accuracy: {train_acc:.2%}')"
   ]
  },
  {
   "cell_type": "code",
   "execution_count": 20,
   "id": "a2ef7f31",
   "metadata": {},
   "outputs": [
    {
     "data": {
      "text/plain": [
       "Text(0.5, 1.0, 'Accuracies during training')"
      ]
     },
     "execution_count": 20,
     "metadata": {},
     "output_type": "execute_result"
    },
    {
     "data": {
      "image/png": "[encoded data removed]",
      "text/plain": [
       "<Figure size 800x800 with 1 Axes>"
      ]
     },
     "metadata": {},
     "output_type": "display_data"
    }
   ],
   "source": [
    "plt.figure(figsize=(8, 8))\n",
    "plt.plot(range(1, EPOCHS + 1), history.history['accuracy'], label='Train set')\n",
    "plt.plot(range(1, EPOCHS + 1), history.history['val_accuracy'], label='Test set')\n",
    "plt.legend()\n",
    "plt.ylabel('Accuracy')\n",
    "plt.xlabel('Epoch')\n",
    "plt.title('Accuracies during training')\n",
    "# plt.savefig('./img/conv_acc.png', dpi=300)"
   ]
  },
  {
   "cell_type": "code",
   "execution_count": 21,
   "id": "79c127cb",
   "metadata": {},
   "outputs": [
    {
     "name": "stdout",
     "output_type": "stream",
     "text": [
      "782/782 [==============================] - 5s 7ms/step\n",
      "Convolutional model train set MCC: 0.886\n",
      "Convolutional model test set MCC: 0.705\n"
     ]
    }
   ],
   "source": [
    "test_preds = np.where(model.predict(data.test_data) > 0.5, 1, 0).flatten()\n",
    "print(f'Convolutional model train set MCC: {matthews_corrcoef(data.train_labels, train_preds):.3f}')\n",
    "print(f'Convolutional model test set MCC: {matthews_corrcoef(data.test_labels, test_preds):.3f}')"
   ]
  },
  {
   "cell_type": "code",
   "execution_count": 22,
   "id": "27911f7f",
   "metadata": {},
   "outputs": [],
   "source": [
    "# Free up memory so we don't exceed Google Colab's memory limits\n",
    "if IN_COLAB:\n",
    "    del train_counts\n",
    "    del test_counts\n",
    "    del data\n",
    "    del embedding_matrix\n",
    "    del embeddings_index\n",
    "    del vocab\n",
    "    del history\n",
    "    del model"
   ]
  },
  {
   "cell_type": "markdown",
   "id": "4cd5aac6",
   "metadata": {},
   "source": [
    "This model performs okay but fails to get the testing accuracy over ~85% while limiting overfitting.  To ensure I satisfy the assignment requirements, I will define another model using the preprocessed data from keras and the suggested vectorization."
   ]
  },
  {
   "cell_type": "markdown",
   "id": "e2da1421",
   "metadata": {},
   "source": [
    "### Fully-Connected Model"
   ]
  },
  {
   "cell_type": "code",
   "execution_count": 23,
   "id": "5e49ce7c",
   "metadata": {},
   "outputs": [],
   "source": [
    "# Hyperparameters\n",
    "VOCAB_SIZE = 10000\n",
    "LR = 2e-4\n",
    "EPOCHS = 3\n",
    "BATCH_SIZE = 256\n",
    "L2_COEFF = 0.002"
   ]
  },
  {
   "cell_type": "code",
   "execution_count": 24,
   "id": "76149f2b",
   "metadata": {},
   "outputs": [],
   "source": [
    "# Load the data\n",
    "(train_data, train_labels), (test_data, test_labels) = imdb.load_data(num_words=VOCAB_SIZE)\n",
    "\n",
    "def vectorize(sequences, dim):\n",
    "    result = np.zeros((len(sequences), dim))\n",
    "    for i, seq in enumerate(sequences):\n",
    "        result[i, seq] = 1\n",
    "    return result\n",
    "\n",
    "# Vectorize the data\n",
    "train_data = vectorize(train_data, VOCAB_SIZE)\n",
    "test_data = vectorize(test_data, VOCAB_SIZE)"
   ]
  },
  {
   "cell_type": "code",
   "execution_count": 25,
   "id": "ef33149c",
   "metadata": {},
   "outputs": [],
   "source": [
    "# Define a simple fully-connected network\n",
    "model_fc = Sequential([\n",
    "    Dense(32, activation='relu', input_shape=(VOCAB_SIZE,), kernel_regularizer=L2(L2_COEFF)),\n",
    "    Dropout(0.5),\n",
    "    Dense(16, activation='relu', kernel_regularizer=L2(L2_COEFF)),\n",
    "    Dropout(0.5),\n",
    "    Dense(1, activation='sigmoid')\n",
    "])"
   ]
  },
  {
   "cell_type": "code",
   "execution_count": 26,
   "id": "f4cd0ada",
   "metadata": {},
   "outputs": [
    {
     "name": "stdout",
     "output_type": "stream",
     "text": [
      "Model: \"sequential_1\"\n",
      "_________________________________________________________________\n",
      " Layer (type)                Output Shape              Param #   \n",
      "=================================================================\n",
      " dense_2 (Dense)             (None, 32)                320032    \n",
      "                                                                 \n",
      " dropout_1 (Dropout)         (None, 32)                0         \n",
      "                                                                 \n",
      " dense_3 (Dense)             (None, 16)                528       \n",
      "                                                                 \n",
      " dropout_2 (Dropout)         (None, 16)                0         \n",
      "                                                                 \n",
      " dense_4 (Dense)             (None, 1)                 17        \n",
      "                                                                 \n",
      "=================================================================\n",
      "Total params: 320,577\n",
      "Trainable params: 320,577\n",
      "Non-trainable params: 0\n",
      "_________________________________________________________________\n"
     ]
    }
   ],
   "source": [
    "model_fc.summary()"
   ]
  },
  {
   "cell_type": "code",
   "execution_count": 27,
   "id": "84896e9a",
   "metadata": {},
   "outputs": [],
   "source": [
    "model_fc.compile(\n",
    "    optimizer=Adam(learning_rate=LR),\n",
    "    loss=BinaryCrossentropy(from_logits=False),\n",
    "    metrics=['accuracy']\n",
    ")"
   ]
  },
  {
   "cell_type": "code",
   "execution_count": 28,
   "id": "4c36c359",
   "metadata": {},
   "outputs": [
    {
     "name": "stdout",
     "output_type": "stream",
     "text": [
      "Epoch 1/3\n"
     ]
    },
    {
     "name": "stderr",
     "output_type": "stream",
     "text": [
      "2022-12-14 11:05:21.472034: I tensorflow/core/grappler/optimizers/custom_graph_optimizer_registry.cc:114] Plugin optimizer for device_type GPU is enabled.\n"
     ]
    },
    {
     "name": "stdout",
     "output_type": "stream",
     "text": [
      "98/98 [==============================] - ETA: 0s - loss: 0.7846 - accuracy: 0.6164"
     ]
    },
    {
     "name": "stderr",
     "output_type": "stream",
     "text": [
      "2022-12-14 11:05:24.903959: I tensorflow/core/grappler/optimizers/custom_graph_optimizer_registry.cc:114] Plugin optimizer for device_type GPU is enabled.\n"
     ]
    },
    {
     "name": "stdout",
     "output_type": "stream",
     "text": [
      "98/98 [==============================] - 5s 42ms/step - loss: 0.7846 - accuracy: 0.6164 - val_loss: 0.6794 - val_accuracy: 0.8180\n",
      "Epoch 2/3\n",
      "98/98 [==============================] - 2s 20ms/step - loss: 0.6357 - accuracy: 0.7608 - val_loss: 0.5469 - val_accuracy: 0.8610\n",
      "Epoch 3/3\n",
      "98/98 [==============================] - 2s 18ms/step - loss: 0.5369 - accuracy: 0.8190 - val_loss: 0.4651 - val_accuracy: 0.8769\n"
     ]
    }
   ],
   "source": [
    "history = model_fc.fit(\n",
    "    train_data, \n",
    "    train_labels, \n",
    "    epochs=EPOCHS, \n",
    "    batch_size=BATCH_SIZE, \n",
    "    validation_data=(test_data, test_labels)\n",
    ")"
   ]
  },
  {
   "cell_type": "markdown",
   "id": "a3e04344",
   "metadata": {},
   "source": [
    "Keep in mind here that the above training accuracy is not accurate for the same reasons as before."
   ]
  },
  {
   "cell_type": "markdown",
   "id": "1c3ce552",
   "metadata": {},
   "source": [
    "## Part III: Testing and Results\n",
    "Here, we will take a closer look at the performance of the second deep learning model."
   ]
  },
  {
   "cell_type": "code",
   "execution_count": 29,
   "id": "886f02ca",
   "metadata": {},
   "outputs": [
    {
     "name": "stdout",
     "output_type": "stream",
     "text": [
      " 47/782 [>.............................] - ETA: 2s"
     ]
    },
    {
     "name": "stderr",
     "output_type": "stream",
     "text": [
      "2022-12-14 11:05:31.170857: I tensorflow/core/grappler/optimizers/custom_graph_optimizer_registry.cc:114] Plugin optimizer for device_type GPU is enabled.\n"
     ]
    },
    {
     "name": "stdout",
     "output_type": "stream",
     "text": [
      "782/782 [==============================] - 2s 2ms/step\n",
      "782/782 [==============================] - 2s 2ms/step\n"
     ]
    }
   ],
   "source": [
    "# Get Predictions\n",
    "train_preds = model_fc.predict(train_data)\n",
    "test_preds = model_fc.predict(test_data)\n",
    "train_preds = np.where(train_preds.flatten() > 0.5, 1, 0)\n",
    "test_preds = np.where(test_preds.flatten() > 0.5, 1, 0)"
   ]
  },
  {
   "cell_type": "code",
   "execution_count": 30,
   "id": "416316eb",
   "metadata": {},
   "outputs": [
    {
     "name": "stdout",
     "output_type": "stream",
     "text": [
      "Training Accuracy: 90.21%\n",
      "Testing Accuracy: 87.69%\n"
     ]
    }
   ],
   "source": [
    "# Compute accuracies\n",
    "train_accuracy = (train_preds == train_labels).sum()/len(train_labels)\n",
    "test_accuracy = (test_preds == test_labels).sum()/len(test_labels)\n",
    "\n",
    "print(f'Training Accuracy: {train_accuracy:.2%}')\n",
    "print(f'Testing Accuracy: {test_accuracy:.2%}')"
   ]
  },
  {
   "cell_type": "markdown",
   "id": "fa01b7fd",
   "metadata": {},
   "source": [
    "This model satisfies the assignment requirements of at least 87% accuracy and low overfitting (at least most of the time).  I was not able to increase the testing accuracy above this without overfitting the model."
   ]
  },
  {
   "cell_type": "code",
   "execution_count": 31,
   "id": "f023b4e4",
   "metadata": {},
   "outputs": [
    {
     "data": {
      "text/plain": [
       "Text(0.5, 1.0, 'Accuracies during training')"
      ]
     },
     "execution_count": 31,
     "metadata": {},
     "output_type": "execute_result"
    },
    {
     "data": {
      "image/png": "[encoded data removed]",
      "text/plain": [
       "<Figure size 800x800 with 1 Axes>"
      ]
     },
     "metadata": {},
     "output_type": "display_data"
    }
   ],
   "source": [
    "plt.figure(figsize=(8, 8))\n",
    "plt.plot(range(1, EPOCHS + 1), history.history['accuracy'], label='Train set')\n",
    "plt.plot(range(1, EPOCHS + 1), history.history['val_accuracy'], label='Test set')\n",
    "plt.legend()\n",
    "plt.ylabel('Accuracy')\n",
    "plt.xlabel('Epoch')\n",
    "plt.title('Accuracies during training')\n",
    "# plt.savefig('./img/fc_acc.png', dpi=300)"
   ]
  },
  {
   "cell_type": "code",
   "execution_count": 32,
   "id": "95274e49",
   "metadata": {},
   "outputs": [
    {
     "data": {
      "image/png": "[encoded data removed]",
      "text/plain": [
       "<Figure size 1200x500 with 4 Axes>"
      ]
     },
     "metadata": {},
     "output_type": "display_data"
    }
   ],
   "source": [
    "plt.figure(figsize=(12, 5))\n",
    "plt.subplot(1, 2, 1)\n",
    "ax = plt.gca()\n",
    "ConfusionMatrixDisplay.from_predictions(\n",
    "    train_labels, \n",
    "    train_preds, \n",
    "    normalize='pred', \n",
    "    display_labels=['negative', 'positive'],\n",
    "    ax=ax\n",
    ")\n",
    "plt.title('Train data confusion matrix')\n",
    "\n",
    "plt.subplot(1, 2, 2)\n",
    "ax = plt.gca()\n",
    "ConfusionMatrixDisplay.from_predictions(\n",
    "    test_labels, \n",
    "    test_preds, \n",
    "    normalize='pred', \n",
    "    display_labels=['negative', 'positive'],\n",
    "    ax=ax\n",
    ")\n",
    "plt.title('Test data confusion matrix')\n",
    "plt.tight_layout()\n",
    "# plt.savefig('./img/fc_confusion.png', dpi=300)"
   ]
  },
  {
   "cell_type": "markdown",
   "id": "eb6fcbed",
   "metadata": {},
   "source": [
    "As seen in the confusion matrices above, it seems the model mistakenly classifies negative reviews roughly as often as positive reviews."
   ]
  },
  {
   "cell_type": "code",
   "execution_count": 33,
   "id": "05f2fd38",
   "metadata": {},
   "outputs": [
    {
     "name": "stdout",
     "output_type": "stream",
     "text": [
      "Train set MCC score: 0.805\n",
      "Test set MCC score: 0.754\n"
     ]
    }
   ],
   "source": [
    "print(f'Train set MCC score: {matthews_corrcoef(train_labels, train_preds):.3f}')\n",
    "print(f'Test set MCC score: {matthews_corrcoef(test_labels, test_preds):.3f}')"
   ]
  },
  {
   "cell_type": "markdown",
   "id": "e1c8a0e0",
   "metadata": {},
   "source": [
    "The above MCC scores reaffirm the good, but not great, performance of the model."
   ]
  }
 ],
 "metadata": {
  "kernelspec": {
   "display_name": "Python 3 (ipykernel)",
   "language": "python",
   "name": "python3"
  },
  "language_info": {
   "codemirror_mode": {
    "name": "ipython",
    "version": 3
   },
   "file_extension": ".py",
   "mimetype": "text/x-python",
   "name": "python",
   "nbconvert_exporter": "python",
   "pygments_lexer": "ipython3",
   "version": "3.10.6"
  }
 },
 "nbformat": 4,
 "nbformat_minor": 5
}
